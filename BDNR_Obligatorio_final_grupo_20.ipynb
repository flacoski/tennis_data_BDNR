{
  "cells": [
    {
      "cell_type": "code",
      "source": [
        "!pip install py2neo -q\n",
        "!pip install neo4jupyter -q"
      ],
      "metadata": {
        "id": "2888PG2bnBVF",
        "colab": {
          "base_uri": "https://localhost:8080/"
        },
        "outputId": "47bdafde-f9dc-4d28-b06e-f21b50bf9b25"
      },
      "execution_count": 1,
      "outputs": [
        {
          "output_type": "stream",
          "name": "stdout",
          "text": [
            "\u001b[?25l     \u001b[90m━━━━━━━━━━━━━━━━━━━━━━━━━━━━━━━━━━━━━━━━\u001b[0m \u001b[32m0.0/177.0 kB\u001b[0m \u001b[31m?\u001b[0m eta \u001b[36m-:--:--\u001b[0m\r\u001b[2K     \u001b[90m━━━━━━━━━━━━━━━━━━━━━━━━━━━━━━━━━━━━━━━\u001b[0m \u001b[32m177.0/177.0 kB\u001b[0m \u001b[31m8.3 MB/s\u001b[0m eta \u001b[36m0:00:00\u001b[0m\n",
            "\u001b[?25h  Preparing metadata (setup.py) ... \u001b[?25l\u001b[?25hdone\n",
            "  Preparing metadata (setup.py) ... \u001b[?25l\u001b[?25hdone\n",
            "\u001b[2K     \u001b[90m━━━━━━━━━━━━━━━━━━━━━━━━━━━━━━━━━━━━━━━━\u001b[0m \u001b[32m1.6/1.6 MB\u001b[0m \u001b[31m32.5 MB/s\u001b[0m eta \u001b[36m0:00:00\u001b[0m\n",
            "\u001b[2K     \u001b[90m━━━━━━━━━━━━━━━━━━━━━━━━━━━━━━━━━━━━━━━━\u001b[0m \u001b[32m73.0/73.0 kB\u001b[0m \u001b[31m7.5 MB/s\u001b[0m eta \u001b[36m0:00:00\u001b[0m\n",
            "\u001b[?25h  Preparing metadata (setup.py) ... \u001b[?25l\u001b[?25hdone\n",
            "  Building wheel for neo4jupyter (setup.py) ... \u001b[?25l\u001b[?25hdone\n",
            "  Building wheel for ipython-cypher (setup.py) ... \u001b[?25l\u001b[?25hdone\n",
            "  Building wheel for neo4jrestclient (setup.py) ... \u001b[?25l\u001b[?25hdone\n"
          ]
        }
      ]
    },
    {
      "cell_type": "code",
      "execution_count": 2,
      "metadata": {
        "id": "vcoqUxkvQ5TL",
        "outputId": "33bfa70e-d5f9-4da8-bb01-2843e70ad6fa",
        "colab": {
          "base_uri": "https://localhost:8080/",
          "height": 34
        }
      },
      "outputs": [
        {
          "output_type": "display_data",
          "data": {
            "text/plain": [
              "<IPython.core.display.Javascript object>"
            ],
            "application/javascript": [
              "var link = document.createElement(\"link\");\n",
              "\tlink.ref = \"stylesheet\";\n",
              "\tlink.type = \"text/css\";\n",
              "\tlink.href = \"https://cdnjs.cloudflare.com/ajax/libs/vis/4.8.2/vis.css\";\n",
              "\tdocument.head.appendChild(link);\n",
              "require.config({     paths: {         vis: '//cdnjs.cloudflare.com/ajax/libs/vis/4.8.2/vis.min'     } }); require(['vis'], function(vis) {  window.vis = vis; }); "
            ]
          },
          "metadata": {}
        },
        {
          "output_type": "stream",
          "name": "stdout",
          "text": [
            "py2neo version 2021.2.3\n"
          ]
        }
      ],
      "source": [
        "import os\n",
        "import pandas as pd\n",
        "import py2neo\n",
        "from py2neo import Graph,Node,Relationship\n",
        "import neo4jupyter\n",
        "neo4jupyter.init_notebook_mode()\n",
        "print ('py2neo version', py2neo.__version__)"
      ]
    },
    {
      "cell_type": "code",
      "source": [
        "# Establish Neo4J connection Felipe\n",
        "# dburl='neo4j+s://086d8743.databases.neo4j.io'\n",
        "# user='neo4j'\n",
        "# pasw='BxHc4q3iI30Gjkgc0PUbgEMD5hjzlbn6ENtGEGretNk'\n",
        "# graph = Graph(dburl, auth=(user, pasw))\n",
        "\n",
        "# Establish Neo4J connection Santiago\n",
        "dburl='neo4j+s://59c0a233.databases.neo4j.io'\n",
        "user='neo4j'\n",
        "pasw='cVfbYqkChlNI32tHn2-Rv-gmJFL7a5LzKKohfP00utY'\n",
        "graph = Graph(dburl, auth=(user, pasw))\n",
        "\n",
        "# Establish your own Neo4J connection\n",
        "# dburl=\n",
        "# user=\n",
        "# pasw=\n",
        "# graph = Graph(dburl, auth=(user, pasw))"
      ],
      "metadata": {
        "id": "Hbx3BpepcPD2"
      },
      "execution_count": 3,
      "outputs": []
    },
    {
      "cell_type": "code",
      "source": [
        "# Filtered files and attributes\n",
        "# matches_csv='https://raw.githubusercontent.com/flacoski/tennis_data_BDNR/main/dataset_filtered/matches.csv'\n",
        "# players_csv='https://raw.githubusercontent.com/flacoski/tennis_data_BDNR/main/dataset_filtered/players.csv'\n",
        "# countries_csv='https://raw.githubusercontent.com/flacoski/tennis_data_BDNR/main/dataset_filtered/countries.csv'\n",
        "# tourneis_csv='https://raw.githubusercontent.com/flacoski/tennis_data_BDNR/main/dataset_filtered/tournies.csv'\n",
        "matches_csv='https://raw.githubusercontent.com/flacoski/tennis_data_BDNR/main/full_dataset/matches.csv'\n",
        "players_csv='https://raw.githubusercontent.com/flacoski/tennis_data_BDNR/main/full_dataset/players.csv'\n",
        "countries_csv='https://raw.githubusercontent.com/flacoski/tennis_data_BDNR/main/full_dataset/countries.csv'\n",
        "tourneis_csv='https://raw.githubusercontent.com/flacoski/tennis_data_BDNR/main/full_dataset/tournies.csv'\n",
        "matches_attributes = ['tourney_name','surface','draw_size',\n",
        "                      'tourney_level','match_num','winner_id',\n",
        "                      'winner_seed','winner_entry','winner_ht','winner_ioc',\n",
        "                      'winner_age','loser_id','loser_seed','loser_entry',\n",
        "                      'loser_ht','loser_ioc','loser_age','score','best_of',\n",
        "                      'round','minutes','w_ace','w_df','w_svpt','w_1stIn',\n",
        "                      'w_1stWon','w_2ndWon','w_SvGms','w_bpSaved','w_bpFaced',\n",
        "                      'l_ace','l_df','l_svpt','l_1stIn','l_1stWon','l_2ndWon',\n",
        "                      'l_SvGms','l_bpSaved','l_bpFaced','winner_rank',\n",
        "                      'winner_rank_points','loser_rank','loser_rank_points',\n",
        "                      'league']\n",
        "player_attributes = ['player_id','name_first','name_last','hand','birthdate','country','gender']\n",
        "player_node = ','.join([attr+\":row.\"+attr for attr in player_attributes])\n",
        "match_node = ','.join([attr+\":row.\" + attr for attr in matches_attributes])+', tourney_date:date(row.tourney_date)'"
      ],
      "metadata": {
        "id": "J7Chv9AUcNns"
      },
      "execution_count": 4,
      "outputs": []
    },
    {
      "cell_type": "code",
      "source": [
        "# Load data\n",
        "graph.run(f\"LOAD CSV WITH HEADERS FROM '{countries_csv}' AS row CREATE (c:Country {{ country:row.Countries }})\")\n",
        "graph.run(f\"LOAD CSV WITH HEADERS FROM '{tourneis_csv}' AS row CREATE (c:Tourney {{ name:row.tourney_name }})\")\n",
        "graph.run(f\"\"\"LOAD CSV WITH HEADERS FROM '{players_csv}' AS row\n",
        "  CALL {{\n",
        "    WITH row\n",
        "    MATCH (c:Country {{country: row.country}})\n",
        "    CREATE (p:Player {{ {player_node} }}) -[:BORN_IN]->(c)\n",
        "  }} IN TRANSACTIONS OF 1000 ROWS\n",
        "\"\"\")\n",
        "graph.run(f\"\"\"CREATE INDEX player_id_index FOR (n:Player) ON (n.player_id)\"\"\")\n",
        "\n",
        "graph.run(f\"\"\"\n",
        "LOAD CSV WITH HEADERS FROM '{matches_csv}' AS row\n",
        " CALL {{\n",
        "    WITH row\n",
        "    MATCH (w:Player {{player_id:row.winner_id}}),\n",
        "          (l:Player {{player_id:row.loser_id}}),\n",
        "          (t:Tourney {{name:row.tourney_name}})\n",
        "    CREATE (l)-[:LOST]->(n:Match {{ {match_node} }})<-[:WON]-(w),\n",
        "           (n)-[:PART_OF]->(t)\n",
        " }} IN TRANSACTIONS OF 500 ROWS\n",
        " \"\"\")"
      ],
      "metadata": {
        "id": "LSogGPMqlkHp",
        "colab": {
          "base_uri": "https://localhost:8080/",
          "height": 34
        },
        "outputId": "f9c6f31b-73fa-43a9-a37e-1bb381e27f43"
      },
      "execution_count": 6,
      "outputs": [
        {
          "output_type": "execute_result",
          "data": {
            "text/plain": [
              "(No data)"
            ],
            "text/html": [
              "(No data)"
            ]
          },
          "metadata": {},
          "execution_count": 6
        }
      ]
    },
    {
      "cell_type": "code",
      "source": [
        "# Delete data - Solo ejecutar si se quiere borrar todos los datos\n",
        "\n",
        "# graph.run(\"\"\"\n",
        "# MATCH (n)\n",
        "# CALL {\n",
        "#   WITH n\n",
        "#   DETACH DELETE n\n",
        "# } IN TRANSACTIONS OF 1000 ROWS\n",
        "# \"\"\")"
      ],
      "metadata": {
        "colab": {
          "base_uri": "https://localhost:8080/",
          "height": 34
        },
        "id": "VPP84GzHjVq3",
        "outputId": "484f7bb9-98bf-4dc2-f22c-40a2f11587db"
      },
      "execution_count": 5,
      "outputs": [
        {
          "output_type": "execute_result",
          "data": {
            "text/plain": [
              "(No data)"
            ],
            "text/html": [
              "(No data)"
            ]
          },
          "metadata": {},
          "execution_count": 5
        }
      ]
    },
    {
      "cell_type": "code",
      "source": [
        "# 4.1 Camino de menor longitud\n",
        "\n",
        "graph.run(\"\"\"\n",
        "MATCH (p:Player {player_id:'103819'}), // Federer\n",
        "(n:Player {player_id:'100029'}) // Rod Laver\n",
        "RETURN shortestPath((p)-[:WON|LOST*]-(n))\n",
        "\"\"\")"
      ],
      "metadata": {
        "colab": {
          "base_uri": "https://localhost:8080/",
          "height": 34
        },
        "id": "kWDtP1obFHaa",
        "outputId": "a22a263f-1919-489c-f18a-28241a46d87a"
      },
      "execution_count": 7,
      "outputs": [
        {
          "output_type": "execute_result",
          "data": {
            "text/plain": [
              "(No data)"
            ],
            "text/html": [
              "(No data)"
            ]
          },
          "metadata": {},
          "execution_count": 7
        }
      ]
    },
    {
      "cell_type": "code",
      "source": [
        "# 4.2 Duracion promedio\n",
        "\n",
        "graph.run(\"\"\"\n",
        "MATCH (p:Player)-[:WON]->(m:Match)\n",
        "WHERE m.minutes IS NOT NULL\n",
        "RETURN p.player_id as id, p.name_first + ' ' + p.name_last as name, avg(toInteger(m.minutes)) AS minutes_avg, COUNT(m) AS matches, 1/(avg(toInteger(m.minutes))*sqrt(COUNT(m))) as weighted_avg\n",
        "ORDER BY weighted_avg ASC\n",
        "\"\"\")"
      ],
      "metadata": {
        "id": "HUV2tvLfrx0b"
      },
      "execution_count": null,
      "outputs": []
    },
    {
      "cell_type": "code",
      "source": [
        "# 4.3 Ganador según superficie\n",
        "\n",
        "graph.run(\"\"\"\n",
        "MATCH (c:Country)<-[:BORN_IN]-(p:Player)-[:WON]->(m:Match)\n",
        "WITH m.surface AS surface, c.country AS country, COUNT(m) AS Wins\n",
        "ORDER BY surface, Wins DESC\n",
        "RETURN surface, COLLECT({country: country, wins: Wins})[0] AS maxWins\n",
        "\"\"\")"
      ],
      "metadata": {
        "id": "Qv1xXeHL-sAq"
      },
      "execution_count": null,
      "outputs": []
    },
    {
      "cell_type": "code",
      "source": [
        "# 4.4 Ganador de torneo\n",
        "\n",
        "graph.run(\"\"\"\n",
        "MATCH (t:Tourney)<-[:PART_OF]-(m:Match)<-[wl:WON|LOST]-(p:Player)\n",
        "WITH t.name AS tourney_name, m.tourney_date AS tourney_date, p,\n",
        "COUNT(CASE WHEN TYPE(wl) = 'WON' THEN 1 ELSE NULL END)\n",
        "AS won_count\n",
        "ORDER BY won_count DESC\n",
        "WITH tourney_name, tourney_date,\n",
        "COLLECT({player: p, won_count: won_count}) AS players\n",
        "RETURN tourney_name, tourney_date,\n",
        "players[0].player AS player,\n",
        "players[0].won_count AS max_wins\n",
        "\"\"\")"
      ],
      "metadata": {
        "id": "ifcRs4o_AJsd"
      },
      "execution_count": null,
      "outputs": []
    },
    {
      "cell_type": "code",
      "source": [
        "# 4.5 Victorias transitivas\n",
        "\n",
        "year = 2019\n",
        "\n",
        "query = \"\"\"\n",
        "MATCH (pw:Player)-[w1:WON]->(m1:Match)<-[l1:LOST]-(pl:Player)-[w2:WON]->(m2:Match)<-[l2:LOST]-(pll:Player)\n",
        "WHERE date({year:$year}) <= m1.tourney_date < date({year:$year+1})\n",
        "AND date({year:$year}) <= m2.tourney_date < date({year:$year+1})\n",
        "AND m2.tourney_date <= m1.tourney_date\n",
        "AND pw.player_id <> pll.player_id\n",
        "WITH pw, COLLECT(DISTINCT pl) + COLLECT(DISTINCT pll) AS distinctLostPlayers\n",
        "RETURN pw.name_first + \" \" + pw.name_last as winner_name, SIZE(apoc.coll.toSet(distinctLostPlayers)) AS distinctCount\n",
        "ORDER BY distinctCount DESC\n",
        "\"\"\"\n",
        "\n",
        "graph.run(query, year=year)"
      ],
      "metadata": {
        "id": "o7u6_BfL_zE4"
      },
      "execution_count": null,
      "outputs": []
    },
    {
      "cell_type": "code",
      "source": [
        "# 4.6 Mejor racha de victorias\n",
        "\n",
        "year_start = 2019\n",
        "year_end = 2020\n",
        "\n",
        "query = \"\"\"\n",
        "MATCH (pw:Player)-[r:WON|LOST]->(m1:Match)<-[:WON|LOST]->(pl:Player)\n",
        "WHERE date({year:$year_start}) <= m1.tourney_date < date({year:$year_end})\n",
        "WITH pw, m1, type(r) as results\n",
        "ORDER BY m1.tourney_date ASC\n",
        "\n",
        "// Obtener todas las rachas de victorias\n",
        "WITH pw, REDUCE(s = [], result IN COLLECT(results) |\n",
        "  CASE\n",
        "    WHEN result = 'LOST' THEN s + [[]]\n",
        "    ELSE s[0..size(s)-1] + [s[size(s)-1] + [result]]\n",
        "  END\n",
        ") AS all_winning_streaks\n",
        "\n",
        "// Obtener todas la mejor racha de victorias\n",
        "WITH pw, [arr IN all_winning_streaks WHERE size(arr) = REDUCE(maxSize = 0, a IN all_winning_streaks |\n",
        "  CASE\n",
        "    WHEN size(a) > maxSize THEN size(a)\n",
        "    ELSE maxSize\n",
        "  END\n",
        ")][0] AS maximum_winning_streak\n",
        "\n",
        "WHERE maximum_winning_streak IS NOT NULL\n",
        "WITH pw, maximum_winning_streak, SIZE(maximum_winning_streak) AS streak_number\n",
        "ORDER BY streak_number DESC\n",
        "RETURN pw.name_first + ' ' + pw.name_last as player_name, streak_number\n",
        "\"\"\"\n",
        "\n",
        "graph.run(query, year_start=year_start, year_end=year_end)\n",
        "\n"
      ],
      "metadata": {
        "id": "bKrWFgLe5jNk"
      },
      "execution_count": null,
      "outputs": []
    }
  ],
  "metadata": {
    "colab": {
      "provenance": []
    },
    "kernelspec": {
      "display_name": "Python 3",
      "language": "python",
      "name": "python3"
    },
    "language_info": {
      "codemirror_mode": {
        "name": "ipython",
        "version": 3
      },
      "file_extension": ".py",
      "mimetype": "text/x-python",
      "name": "python",
      "nbconvert_exporter": "python",
      "pygments_lexer": "ipython3",
      "version": "3.11.3"
    }
  },
  "nbformat": 4,
  "nbformat_minor": 0
}